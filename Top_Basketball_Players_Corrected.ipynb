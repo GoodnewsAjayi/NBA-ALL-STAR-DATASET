{
 "cells": [
  {
   "cell_type": "markdown",
   "id": "c2c1ff31",
   "metadata": {},
   "source": [
    "# Top Basketball Players of All Time\n",
    "\n",
    "This notebook fetches the top basketball players data, organizes it, and saves the results into an Excel file."
   ]
  },
  {
   "cell_type": "code",
   "execution_count": null,
   "id": "cb53d7b1",
   "metadata": {},
   "outputs": [],
   "source": [
    "import pandas as pd\n",
    "import requests\n",
    "from bs4 import BeautifulSoup"
   ]
  },
  {
   "cell_type": "markdown",
   "id": "18927ef9",
   "metadata": {},
   "source": [
    "## Step 1: Fetch Data from Source"
   ]
  },
  {
   "cell_type": "code",
   "execution_count": null,
   "id": "901238cc",
   "metadata": {},
   "outputs": [],
   "source": [
    "url = 'https://www.ranker.com/list/top-nba-players-of-all-time/ranker-sports'\n",
    "response = requests.get(url)\n",
    "soup = BeautifulSoup(response.text, 'html.parser')\n",
    "\n",
    "players = []\n",
    "for item in soup.find_all('div', class_='listItem__data'):\n",
    "    name = item.find('a', class_='listItem__title')\n",
    "    if name:\n",
    "        players.append(name.text.strip())\n",
    "\n",
    "players[:15]  # Preview first 15 players"
   ]
  },
  {
   "cell_type": "markdown",
   "id": "9277d659",
   "metadata": {},
   "source": [
    "## Step 2: Create DataFrame"
   ]
  },
  {
   "cell_type": "code",
   "execution_count": null,
   "id": "44cf834e",
   "metadata": {},
   "outputs": [],
   "source": [
    "df = pd.DataFrame(players, columns=['Player'])\n",
    "df.index += 1  # Rank starting from 1\n",
    "df.head()"
   ]
  },
  {
   "cell_type": "markdown",
   "id": "1ef4dad0",
   "metadata": {},
   "source": [
    "## Step 3: Save to Excel"
   ]
  },
  {
   "cell_type": "code",
   "execution_count": null,
   "id": "38dcd5ef",
   "metadata": {},
   "outputs": [],
   "source": [
    "output_file = 'Top Basketball Players of all time.xlsx'\n",
    "df.to_excel(output_file, sheet_name='Sheet1')\n",
    "print(f'Data successfully saved to {output_file}')"
   ]
  }
 ],
 "metadata": {},
 "nbformat": 4,
 "nbformat_minor": 5
}
